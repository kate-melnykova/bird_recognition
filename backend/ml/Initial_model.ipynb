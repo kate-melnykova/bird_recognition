{
  "nbformat": 4,
  "nbformat_minor": 0,
  "metadata": {
    "colab": {
      "name": "Initial_model.ipynb",
      "provenance": [],
      "collapsed_sections": [],
      "authorship_tag": "ABX9TyOt10Wr1P4OgtMIiZiS201D",
      "include_colab_link": true
    },
    "kernelspec": {
      "name": "python3",
      "display_name": "Python 3"
    },
    "accelerator": "GPU"
  },
  "cells": [
    {
      "cell_type": "markdown",
      "metadata": {
        "id": "view-in-github",
        "colab_type": "text"
      },
      "source": [
        "<a href=\"https://colab.research.google.com/github/kate-melnykova/bird_recognition/blob/master/backend/ml/Initial_model.ipynb\" target=\"_parent\"><img src=\"https://colab.research.google.com/assets/colab-badge.svg\" alt=\"Open In Colab\"/></a>"
      ]
    },
    {
      "cell_type": "markdown",
      "metadata": {
        "id": "n3XbWJ4BOW0m"
      },
      "source": [
        "# Bird classification problem\r\n",
        "You have seen a beautiful bird in the North America, and maybe you have no idea about its name but would like to know? This project aims to classify the birds by their photos.\r\n",
        "\r\n",
        "## Data\r\n",
        "Data is a courtesy of Kaggle datasets\r\n",
        "\r\n",
        "https://www.kaggle.com/gpiosenka/100-bird-species\r\n",
        "\r\n",
        "**Description from the website**\r\n",
        "Images were gather from internet searches by species name. Once the image files for a species was downloaded they were checked for duplicate images using a python duplicate image detector program I developed. All duplicates detected were deleted in order to prevent their being images common between the training, test and validation sets.\r\n",
        "After that the images were cropped so that the bird occupies at least 50% of the pixel in the image. Then the images were resized to 224 X 224 X3 in jpg format."
      ]
    },
    {
      "cell_type": "markdown",
      "metadata": {
        "id": "MBepz9tmQv91"
      },
      "source": [
        "# Import packages"
      ]
    },
    {
      "cell_type": "code",
      "metadata": {
        "id": "b4VTZs4MNeCk"
      },
      "source": [
        "# import packages\r\n",
        "import os, io\r\n",
        "from shutil import rmtree\r\n",
        "\r\n",
        "import PIL\r\n",
        "import numpy as np\r\n",
        "import pandas as pd\r\n",
        "import matplotlib.pyplot as plt\r\n",
        "%matplotlib inline"
      ],
      "execution_count": 1,
      "outputs": []
    },
    {
      "cell_type": "code",
      "metadata": {
        "id": "aMXpwaX_PQpe"
      },
      "source": [
        "# load tensorflow packages\r\n",
        "from tensorflow.keras.models import Sequential\r\n",
        "from tensorflow.keras.layers import Flatten, Dense, Conv2D, BatchNormalization,Activation, Lambda, Dropout, Input\r\n",
        "from tensorflow.keras.preprocessing.image import ImageDataGenerator\r\n",
        "from tensorflow.image import resize\r\n",
        "from tensorflow.keras.callbacks import ModelCheckpoint, EarlyStopping\r\n",
        "from tensorflow.keras.applications import ResNet101V2\r\n",
        "from tensorflow.keras.optimizers import Adam, RMSprop\r\n",
        "from tensorflow.keras.losses import SparseCategoricalCrossentropy\r\n",
        "from tensorflow.keras.metrics import SparseCategoricalAccuracy"
      ],
      "execution_count": null,
      "outputs": []
    },
    {
      "cell_type": "markdown",
      "metadata": {
        "id": "1gpcL2m7Qvcr"
      },
      "source": [
        "# Set up directories"
      ]
    },
    {
      "cell_type": "code",
      "metadata": {
        "id": "08EwzmdYPjLJ",
        "colab": {
          "base_uri": "https://localhost:8080/",
          "height": 68
        },
        "outputId": "b845f916-78d1-478d-f9d2-59904de4ff5a"
      },
      "source": [
        "import os\r\n",
        "folder = '/content/drive/My Drive/Bird_classification/'\r\n",
        "train_dir = os.path.join(folder, '/train')\r\n",
        "print(train_dir)\r\n",
        "os.path.join('content', 'drive','My Drive','Bird_classification', \r\n",
        "             'train')"
      ],
      "execution_count": 4,
      "outputs": [
        {
          "output_type": "stream",
          "text": [
            "/train\n"
          ],
          "name": "stdout"
        },
        {
          "output_type": "execute_result",
          "data": {
            "application/vnd.google.colaboratory.intrinsic+json": {
              "type": "string"
            },
            "text/plain": [
              "'content/drive/My Drive/Bird_classification/train'"
            ]
          },
          "metadata": {
            "tags": []
          },
          "execution_count": 4
        }
      ]
    },
    {
      "cell_type": "code",
      "metadata": {
        "colab": {
          "base_uri": "https://localhost:8080/",
          "height": 35
        },
        "id": "ZbTGoVjAaGSE",
        "outputId": "1a6abc62-3a4a-4c37-be79-d4a40b5586c1"
      },
      "source": [
        "train_dir"
      ],
      "execution_count": null,
      "outputs": [
        {
          "output_type": "execute_result",
          "data": {
            "application/vnd.google.colaboratory.intrinsic+json": {
              "type": "string"
            },
            "text/plain": [
              "'/content/drive/My Drive/Bird_classification/train'"
            ]
          },
          "metadata": {
            "tags": []
          },
          "execution_count": 4
        }
      ]
    },
    {
      "cell_type": "code",
      "metadata": {
        "id": "vRWOS3DIQ2GG",
        "colab": {
          "base_uri": "https://localhost:8080/"
        },
        "outputId": "bbef97f0-8449-4936-ecc1-0f20b2d7d070"
      },
      "source": [
        "from google.colab import drive\r\n",
        "drive.mount('/content/drive')"
      ],
      "execution_count": null,
      "outputs": [
        {
          "output_type": "stream",
          "text": [
            "Mounted at /content/drive\n"
          ],
          "name": "stdout"
        }
      ]
    },
    {
      "cell_type": "markdown",
      "metadata": {
        "id": "76W5WYNFPOMd"
      },
      "source": [
        "# Dataset preprocessing (should be done once)\r\n",
        "\r\n",
        "Many labels have a very few images. I want to drop all classes that have less than 10 images in the training set."
      ]
    },
    {
      "cell_type": "code",
      "metadata": {
        "colab": {
          "base_uri": "https://localhost:8080/"
        },
        "id": "Cz3GrOx9Pcqo",
        "outputId": "d67f6810-f68a-4141-a3b7-6323d8948ea2"
      },
      "source": [
        "to_keep = list()\r\n",
        "for f in os.listdir(train_dir):\r\n",
        "    if len(list(os.listdir(train_dir + '/' + f))) > 10:\r\n",
        "        to_keep.append(folder)\r\n",
        "\r\n",
        "print(f'We keep {len(to_keep)} many species')\r\n",
        "print(f'Here is their list')\r\n",
        "for name in sorted(to_keep):\r\n",
        "    print(name)"
      ],
      "execution_count": null,
      "outputs": [
        {
          "output_type": "stream",
          "text": [
            "We keep 235 many species\n",
            "Here is their list\n",
            "AFRICAN CROWNED CRANE\n",
            "AFRICAN FIREFINCH\n",
            "ALBATROSS\n",
            "ALEXANDRINE PARAKEET\n",
            "AMERICAN AVOCET\n",
            "AMERICAN BITTERN\n",
            "AMERICAN COOT\n",
            "AMERICAN GOLDFINCH\n",
            "AMERICAN KESTREL\n",
            "AMERICAN PIPIT\n",
            "AMERICAN REDSTART\n",
            "ANHINGA\n",
            "ANNAS HUMMINGBIRD\n",
            "ANTBIRD\n",
            "ARARIPE MANAKIN\n",
            "ASIAN CRESTED IBIS\n",
            "BALD EAGLE\n",
            "BALI STARLING\n",
            "BALTIMORE ORIOLE\n",
            "BANANAQUIT\n",
            "BAR-TAILED GODWIT\n",
            "BARN OWL\n",
            "BARN SWALLOW\n",
            "BARRED PUFFBIRD\n",
            "BAY-BREASTED WARBLER\n",
            "BEARDED BARBET\n",
            "BELTED KINGFISHER\n",
            "BIRD OF PARADISE\n",
            "BLACK FRANCOLIN\n",
            "BLACK SKIMMER\n",
            "BLACK SWAN\n",
            "BLACK THROATED WARBLER\n",
            "BLACK VULTURE\n",
            "BLACK-CAPPED CHICKADEE\n",
            "BLACK-NECKED GREBE\n",
            "BLACK-THROATED SPARROW\n",
            "BLACKBURNIAM WARBLER\n",
            "BLUE GROUSE\n",
            "BLUE HERON\n",
            "BOBOLINK\n",
            "BROWN NOODY\n",
            "BROWN THRASHER\n",
            "CACTUS WREN\n",
            "CALIFORNIA CONDOR\n",
            "CALIFORNIA GULL\n",
            "CALIFORNIA QUAIL\n",
            "CANARY\n",
            "CAPE MAY WARBLER\n",
            "CAPUCHINBIRD\n",
            "CARMINE BEE-EATER\n",
            "CASPIAN TERN\n",
            "CASSOWARY\n",
            "CHARA DE COLLAR\n",
            "CHIPPING SPARROW\n",
            "CHUKAR PARTRIDGE\n",
            "CINNAMON TEAL\n",
            "COCK OF THE  ROCK\n",
            "COCKATOO\n",
            "COMMON GRACKLE\n",
            "COMMON HOUSE MARTIN\n",
            "COMMON LOON\n",
            "COMMON POORWILL\n",
            "COMMON STARLING\n",
            "COUCHS KINGBIRD\n",
            "CRESTED AUKLET\n",
            "CRESTED CARACARA\n",
            "CROW\n",
            "CROWNED PIGEON\n",
            "CUBAN TODY\n",
            "CURL CRESTED ARACURI\n",
            "D-ARNAUDS BARBET\n",
            "DARK EYED JUNCO\n",
            "DOWNY WOODPECKER\n",
            "EASTERN BLUEBIRD\n",
            "EASTERN MEADOWLARK\n",
            "EASTERN ROSELLA\n",
            "EASTERN TOWEE\n",
            "ELEGANT TROGON\n",
            "ELLIOTS  PHEASANT\n",
            "EMPEROR PENGUIN\n",
            "EMU\n",
            "EURASIAN MAGPIE\n",
            "EVENING GROSBEAK\n",
            "FLAME TANAGER\n",
            "FLAMINGO\n",
            "FRIGATE\n",
            "GAMBELS QUAIL\n",
            "GILA WOODPECKER\n",
            "GILDED FLICKER\n",
            "GLOSSY IBIS\n",
            "GOLD WING WARBLER\n",
            "GOLDEN CHEEKED WARBLER\n",
            "GOLDEN CHLOROPHONIA\n",
            "GOLDEN EAGLE\n",
            "GOLDEN PHEASANT\n",
            "GOLDEN PIPIT\n",
            "GOULDIAN FINCH\n",
            "GRAY CATBIRD\n",
            "GRAY PARTRIDGE\n",
            "GREEN JAY\n",
            "GREY PLOVER\n",
            "GUINEA TURACO\n",
            "GUINEAFOWL\n",
            "GYRFALCON\n",
            "HARPY EAGLE\n",
            "HAWAIIAN GOOSE\n",
            "HELMET VANGA\n",
            "HOODED MERGANSER\n",
            "HOOPOES\n",
            "HORNBILL\n",
            "HORNED GUAN\n",
            "HORNED SUNGEM\n",
            "HOUSE FINCH\n",
            "HOUSE SPARROW\n",
            "IMPERIAL SHAQ\n",
            "INCA TERN\n",
            "INDIAN BUSTARD\n",
            "INDIGO BUNTING\n",
            "JABIRU\n",
            "JAVA SPARROW\n",
            "JAVAN MAGPIE\n",
            "KAKAPO\n",
            "KILLDEAR\n",
            "KING VULTURE\n",
            "KIWI\n",
            "KOOKABURRA\n",
            "LARK BUNTING\n",
            "LEARS MACAW\n",
            "LILAC ROLLER\n",
            "LONG-EARED OWL\n",
            "MALABAR HORNBILL\n",
            "MALACHITE KINGFISHER\n",
            "MALEO\n",
            "MALLARD DUCK\n",
            "MANDRIN DUCK\n",
            "MARABOU STORK\n",
            "MASKED BOOBY\n",
            "MASKED LAPWING\n",
            "MIKADO  PHEASANT\n",
            "MOURNING DOVE\n",
            "MYNA\n",
            "NICOBAR PIGEON\n",
            "NORTHERN BALD IBIS\n",
            "NORTHERN CARDINAL\n",
            "NORTHERN FLICKER\n",
            "NORTHERN GANNET\n",
            "NORTHERN GOSHAWK\n",
            "NORTHERN JACANA\n",
            "NORTHERN MOCKINGBIRD\n",
            "NORTHERN PARULA\n",
            "NORTHERN RED BISHOP\n",
            "OCELLATED TURKEY\n",
            "OKINAWA RAIL\n",
            "OSPREY\n",
            "OSTRICH\n",
            "PAINTED BUNTIG\n",
            "PALILA\n",
            "PARADISE TANAGER\n",
            "PARUS MAJOR\n",
            "PEACOCK\n",
            "PELICAN\n",
            "PEREGRINE FALCON\n",
            "PHILIPPINE EAGLE\n",
            "PINK ROBIN\n",
            "PUFFIN\n",
            "PURPLE FINCH\n",
            "PURPLE GALLINULE\n",
            "PURPLE MARTIN\n",
            "PURPLE SWAMPHEN\n",
            "QUETZAL\n",
            "RAINBOW LORIKEET\n",
            "RAZORBILL\n",
            "RED BELLIED PITTA\n",
            "RED FACED CORMORANT\n",
            "RED FACED WARBLER\n",
            "RED HEADED DUCK\n",
            "RED HEADED WOODPECKER\n",
            "RED HONEY CREEPER\n",
            "RED THROATED BEE EATER\n",
            "RED WINGED BLACKBIRD\n",
            "RED WISKERED BULBUL\n",
            "RING-NECKED PHEASANT\n",
            "ROADRUNNER\n",
            "ROBIN\n",
            "ROCK DOVE\n",
            "ROSY FACED LOVEBIRD\n",
            "ROUGH LEG BUZZARD\n",
            "RUBY THROATED HUMMINGBIRD\n",
            "RUFOUS KINGFISHER\n",
            "RUFUOS MOTMOT\n",
            "SAMATRAN THRUSH\n",
            "SAND MARTIN\n",
            "SCARLET IBIS\n",
            "SCARLET MACAW\n",
            "SHOEBILL\n",
            "SMITHS LONGSPUR\n",
            "SNOWY EGRET\n",
            "SNOWY OWL\n",
            "SORA\n",
            "SPANGLED COTINGA\n",
            "SPLENDID WREN\n",
            "SPOON BILED SANDPIPER\n",
            "SPOONBILL\n",
            "SRI LANKA BLUE MAGPIE\n",
            "STEAMER DUCK\n",
            "STORK BILLED KINGFISHER\n",
            "STRAWBERRY FINCH\n",
            "STRIPPED SWALLOW\n",
            "SUPERB STARLING\n",
            "TAIWAN MAGPIE\n",
            "TAKAHE\n",
            "TASMANIAN HEN\n",
            "TEAL DUCK\n",
            "TIT MOUSE\n",
            "TOUCHAN\n",
            "TOWNSENDS WARBLER\n",
            "TREE SWALLOW\n",
            "TRUMPTER SWAN\n",
            "TURKEY VULTURE\n",
            "TURQUOISE MOTMOT\n",
            "VARIED THRUSH\n",
            "VENEZUELIAN TROUPIAL\n",
            "VERMILION FLYCATHER\n",
            "VIOLET GREEN SWALLOW\n",
            "WATTLED CURASSOW\n",
            "WHIMBREL\n",
            "WHITE CHEEKED TURACO\n",
            "WHITE NECKED RAVEN\n",
            "WHITE TAILED TROPIC\n",
            "WILD TURKEY\n",
            "WILSONS BIRD OF PARADISE\n",
            "WOOD DUCK\n",
            "YELLOW BELLIED FLOWERPECKER\n",
            "YELLOW CACIQUE\n",
            "YELLOW HEADED BLACKBIRD\n"
          ],
          "name": "stdout"
        }
      ]
    },
    {
      "cell_type": "code",
      "metadata": {
        "id": "uOu4s1I6Usq_"
      },
      "source": [
        "# Run with caution - deletes the data\r\n",
        "for folder in os.listdir(train_dir):\r\n",
        "    if folder not in to_keep:\r\n",
        "        rmtree(train_dir + '/' + folder)\r\n",
        "\r\n",
        "for folder in os.listdir(valid_dir):\r\n",
        "    if folder not in to_keep:\r\n",
        "        rmtree(valid_dir + '/' + folder)"
      ],
      "execution_count": null,
      "outputs": []
    },
    {
      "cell_type": "markdown",
      "metadata": {
        "id": "PBruIp3SSe-N"
      },
      "source": [
        "# Image Data Generator\r\n"
      ]
    },
    {
      "cell_type": "code",
      "metadata": {
        "id": "OnxrjFM2WYnC"
      },
      "source": [
        "batch_size = 256"
      ],
      "execution_count": null,
      "outputs": []
    },
    {
      "cell_type": "code",
      "metadata": {
        "id": "vjE5g-dpR0hS"
      },
      "source": [
        "train_datagen = ImageDataGenerator(rescale=1/255,\r\n",
        "                                 rotation_range=30,\r\n",
        "                                 width_shift_range=10,\r\n",
        "                                 height_shift_range=10,\r\n",
        "                                 zoom_range=0.2,\r\n",
        "                                 shear_range=0.2,\r\n",
        "                                 horizontal_flip=True)\r\n",
        "\r\n",
        "valid_datagen = ImageDataGenerator(rescale=1/255,\r\n",
        "                                 rotation_range=30,\r\n",
        "                                 width_shift_range=10,\r\n",
        "                                 height_shift_range=10,\r\n",
        "                                 zoom_range=0.2,\r\n",
        "                                 shear_range=0.2,\r\n",
        "                                 horizontal_flip=True)\r\n",
        "\r\n",
        "test_datagen = ImageDataGenerator(rescale=1/255)"
      ],
      "execution_count": null,
      "outputs": []
    },
    {
      "cell_type": "code",
      "metadata": {
        "id": "mphc9zg_U6nP",
        "colab": {
          "base_uri": "https://localhost:8080/"
        },
        "outputId": "19318f33-9e86-446f-9a71-2495873be35a"
      },
      "source": [
        "train_data = train_datagen.flow_from_directory(directory=train_dir,\r\n",
        "                                               seed=42,\r\n",
        "                                               batch_size=batch_size,\r\n",
        "                                               shuffle=True, \r\n",
        "                                               class_mode=\"sparse\",\r\n",
        "                                               target_size=(224,224))\r\n",
        "\r\n",
        "valid_data = valid_datagen.flow_from_directory(directory=valid_dir,\r\n",
        "                                               seed=42,\r\n",
        "                                               batch_size=batch_size,\r\n",
        "                                               shuffle=True, \r\n",
        "                                               class_mode=\"sparse\",\r\n",
        "                                               target_size=(224,224))\r\n",
        "\r\n",
        "test_data = test_datagen.flow_from_directory(directory=test_dir,\r\n",
        "                                               seed=42,\r\n",
        "                                               batch_size=batch_size,\r\n",
        "                                               shuffle=True, \r\n",
        "                                               class_mode=\"sparse\",\r\n",
        "                                               target_size=(224,224))"
      ],
      "execution_count": null,
      "outputs": [
        {
          "output_type": "stream",
          "text": [
            "Found 32672 images belonging to 235 classes.\n",
            "Found 1175 images belonging to 235 classes.\n",
            "Found 1175 images belonging to 235 classes.\n"
          ],
          "name": "stdout"
        }
      ]
    },
    {
      "cell_type": "code",
      "metadata": {
        "id": "fQkcAxWBW5Gr",
        "colab": {
          "base_uri": "https://localhost:8080/"
        },
        "outputId": "bb87d5c5-b628-4a84-e611-53d1da55d87a"
      },
      "source": [
        "train_data.class_indices"
      ],
      "execution_count": null,
      "outputs": [
        {
          "output_type": "execute_result",
          "data": {
            "text/plain": [
              "{'AFRICAN CROWNED CRANE': 0,\n",
              " 'AFRICAN FIREFINCH': 1,\n",
              " 'ALBATROSS': 2,\n",
              " 'ALEXANDRINE PARAKEET': 3,\n",
              " 'AMERICAN AVOCET': 4,\n",
              " 'AMERICAN BITTERN': 5,\n",
              " 'AMERICAN COOT': 6,\n",
              " 'AMERICAN GOLDFINCH': 7,\n",
              " 'AMERICAN KESTREL': 8,\n",
              " 'AMERICAN PIPIT': 9,\n",
              " 'AMERICAN REDSTART': 10,\n",
              " 'ANHINGA': 11,\n",
              " 'ANNAS HUMMINGBIRD': 12,\n",
              " 'ANTBIRD': 13,\n",
              " 'ARARIPE MANAKIN': 14,\n",
              " 'ASIAN CRESTED IBIS': 15,\n",
              " 'BALD EAGLE': 16,\n",
              " 'BALI STARLING': 17,\n",
              " 'BALTIMORE ORIOLE': 18,\n",
              " 'BANANAQUIT': 19,\n",
              " 'BAR-TAILED GODWIT': 20,\n",
              " 'BARN OWL': 21,\n",
              " 'BARN SWALLOW': 22,\n",
              " 'BARRED PUFFBIRD': 23,\n",
              " 'BAY-BREASTED WARBLER': 24,\n",
              " 'BEARDED BARBET': 25,\n",
              " 'BELTED KINGFISHER': 26,\n",
              " 'BIRD OF PARADISE': 27,\n",
              " 'BLACK FRANCOLIN': 28,\n",
              " 'BLACK SKIMMER': 29,\n",
              " 'BLACK SWAN': 30,\n",
              " 'BLACK THROATED WARBLER': 31,\n",
              " 'BLACK VULTURE': 32,\n",
              " 'BLACK-CAPPED CHICKADEE': 33,\n",
              " 'BLACK-NECKED GREBE': 34,\n",
              " 'BLACK-THROATED SPARROW': 35,\n",
              " 'BLACKBURNIAM WARBLER': 36,\n",
              " 'BLUE GROUSE': 37,\n",
              " 'BLUE HERON': 38,\n",
              " 'BOBOLINK': 39,\n",
              " 'BROWN NOODY': 40,\n",
              " 'BROWN THRASHER': 41,\n",
              " 'CACTUS WREN': 42,\n",
              " 'CALIFORNIA CONDOR': 43,\n",
              " 'CALIFORNIA GULL': 44,\n",
              " 'CALIFORNIA QUAIL': 45,\n",
              " 'CANARY': 46,\n",
              " 'CAPE MAY WARBLER': 47,\n",
              " 'CAPUCHINBIRD': 48,\n",
              " 'CARMINE BEE-EATER': 49,\n",
              " 'CASPIAN TERN': 50,\n",
              " 'CASSOWARY': 51,\n",
              " 'CHARA DE COLLAR': 52,\n",
              " 'CHIPPING SPARROW': 53,\n",
              " 'CHUKAR PARTRIDGE': 54,\n",
              " 'CINNAMON TEAL': 55,\n",
              " 'COCK OF THE  ROCK': 56,\n",
              " 'COCKATOO': 57,\n",
              " 'COMMON GRACKLE': 58,\n",
              " 'COMMON HOUSE MARTIN': 59,\n",
              " 'COMMON LOON': 60,\n",
              " 'COMMON POORWILL': 61,\n",
              " 'COMMON STARLING': 62,\n",
              " 'COUCHS KINGBIRD': 63,\n",
              " 'CRESTED AUKLET': 64,\n",
              " 'CRESTED CARACARA': 65,\n",
              " 'CROW': 66,\n",
              " 'CROWNED PIGEON': 67,\n",
              " 'CUBAN TODY': 68,\n",
              " 'CURL CRESTED ARACURI': 69,\n",
              " 'D-ARNAUDS BARBET': 70,\n",
              " 'DARK EYED JUNCO': 71,\n",
              " 'DOWNY WOODPECKER': 72,\n",
              " 'EASTERN BLUEBIRD': 73,\n",
              " 'EASTERN MEADOWLARK': 74,\n",
              " 'EASTERN ROSELLA': 75,\n",
              " 'EASTERN TOWEE': 76,\n",
              " 'ELEGANT TROGON': 77,\n",
              " 'ELLIOTS  PHEASANT': 78,\n",
              " 'EMPEROR PENGUIN': 79,\n",
              " 'EMU': 80,\n",
              " 'EURASIAN MAGPIE': 81,\n",
              " 'EVENING GROSBEAK': 82,\n",
              " 'FLAME TANAGER': 83,\n",
              " 'FLAMINGO': 84,\n",
              " 'FRIGATE': 85,\n",
              " 'GAMBELS QUAIL': 86,\n",
              " 'GILA WOODPECKER': 87,\n",
              " 'GILDED FLICKER': 88,\n",
              " 'GLOSSY IBIS': 89,\n",
              " 'GOLD WING WARBLER': 90,\n",
              " 'GOLDEN CHEEKED WARBLER': 91,\n",
              " 'GOLDEN CHLOROPHONIA': 92,\n",
              " 'GOLDEN EAGLE': 93,\n",
              " 'GOLDEN PHEASANT': 94,\n",
              " 'GOLDEN PIPIT': 95,\n",
              " 'GOULDIAN FINCH': 96,\n",
              " 'GRAY CATBIRD': 97,\n",
              " 'GRAY PARTRIDGE': 98,\n",
              " 'GREEN JAY': 99,\n",
              " 'GREY PLOVER': 100,\n",
              " 'GUINEA TURACO': 101,\n",
              " 'GUINEAFOWL': 102,\n",
              " 'GYRFALCON': 103,\n",
              " 'HARPY EAGLE': 104,\n",
              " 'HAWAIIAN GOOSE': 105,\n",
              " 'HELMET VANGA': 106,\n",
              " 'HOODED MERGANSER': 107,\n",
              " 'HOOPOES': 108,\n",
              " 'HORNBILL': 109,\n",
              " 'HORNED GUAN': 110,\n",
              " 'HORNED SUNGEM': 111,\n",
              " 'HOUSE FINCH': 112,\n",
              " 'HOUSE SPARROW': 113,\n",
              " 'IMPERIAL SHAQ': 114,\n",
              " 'INCA TERN': 115,\n",
              " 'INDIAN BUSTARD': 116,\n",
              " 'INDIGO BUNTING': 117,\n",
              " 'JABIRU': 118,\n",
              " 'JAVA SPARROW': 119,\n",
              " 'JAVAN MAGPIE': 120,\n",
              " 'KAKAPO': 121,\n",
              " 'KILLDEAR': 122,\n",
              " 'KING VULTURE': 123,\n",
              " 'KIWI': 124,\n",
              " 'KOOKABURRA': 125,\n",
              " 'LARK BUNTING': 126,\n",
              " 'LEARS MACAW': 127,\n",
              " 'LILAC ROLLER': 128,\n",
              " 'LONG-EARED OWL': 129,\n",
              " 'MALABAR HORNBILL': 130,\n",
              " 'MALACHITE KINGFISHER': 131,\n",
              " 'MALEO': 132,\n",
              " 'MALLARD DUCK': 133,\n",
              " 'MANDRIN DUCK': 134,\n",
              " 'MARABOU STORK': 135,\n",
              " 'MASKED BOOBY': 136,\n",
              " 'MASKED LAPWING': 137,\n",
              " 'MIKADO  PHEASANT': 138,\n",
              " 'MOURNING DOVE': 139,\n",
              " 'MYNA': 140,\n",
              " 'NICOBAR PIGEON': 141,\n",
              " 'NORTHERN BALD IBIS': 142,\n",
              " 'NORTHERN CARDINAL': 143,\n",
              " 'NORTHERN FLICKER': 144,\n",
              " 'NORTHERN GANNET': 145,\n",
              " 'NORTHERN GOSHAWK': 146,\n",
              " 'NORTHERN JACANA': 147,\n",
              " 'NORTHERN MOCKINGBIRD': 148,\n",
              " 'NORTHERN PARULA': 149,\n",
              " 'NORTHERN RED BISHOP': 150,\n",
              " 'OCELLATED TURKEY': 151,\n",
              " 'OKINAWA RAIL': 152,\n",
              " 'OSPREY': 153,\n",
              " 'OSTRICH': 154,\n",
              " 'PAINTED BUNTIG': 155,\n",
              " 'PALILA': 156,\n",
              " 'PARADISE TANAGER': 157,\n",
              " 'PARUS MAJOR': 158,\n",
              " 'PEACOCK': 159,\n",
              " 'PELICAN': 160,\n",
              " 'PEREGRINE FALCON': 161,\n",
              " 'PHILIPPINE EAGLE': 162,\n",
              " 'PINK ROBIN': 163,\n",
              " 'PUFFIN': 164,\n",
              " 'PURPLE FINCH': 165,\n",
              " 'PURPLE GALLINULE': 166,\n",
              " 'PURPLE MARTIN': 167,\n",
              " 'PURPLE SWAMPHEN': 168,\n",
              " 'QUETZAL': 169,\n",
              " 'RAINBOW LORIKEET': 170,\n",
              " 'RAZORBILL': 171,\n",
              " 'RED BELLIED PITTA': 172,\n",
              " 'RED FACED CORMORANT': 173,\n",
              " 'RED FACED WARBLER': 174,\n",
              " 'RED HEADED DUCK': 175,\n",
              " 'RED HEADED WOODPECKER': 176,\n",
              " 'RED HONEY CREEPER': 177,\n",
              " 'RED THROATED BEE EATER': 178,\n",
              " 'RED WINGED BLACKBIRD': 179,\n",
              " 'RED WISKERED BULBUL': 180,\n",
              " 'RING-NECKED PHEASANT': 181,\n",
              " 'ROADRUNNER': 182,\n",
              " 'ROBIN': 183,\n",
              " 'ROCK DOVE': 184,\n",
              " 'ROSY FACED LOVEBIRD': 185,\n",
              " 'ROUGH LEG BUZZARD': 186,\n",
              " 'RUBY THROATED HUMMINGBIRD': 187,\n",
              " 'RUFOUS KINGFISHER': 188,\n",
              " 'RUFUOS MOTMOT': 189,\n",
              " 'SAMATRAN THRUSH': 190,\n",
              " 'SAND MARTIN': 191,\n",
              " 'SCARLET IBIS': 192,\n",
              " 'SCARLET MACAW': 193,\n",
              " 'SHOEBILL': 194,\n",
              " 'SMITHS LONGSPUR': 195,\n",
              " 'SNOWY EGRET': 196,\n",
              " 'SNOWY OWL': 197,\n",
              " 'SORA': 198,\n",
              " 'SPANGLED COTINGA': 199,\n",
              " 'SPLENDID WREN': 200,\n",
              " 'SPOON BILED SANDPIPER': 201,\n",
              " 'SPOONBILL': 202,\n",
              " 'SRI LANKA BLUE MAGPIE': 203,\n",
              " 'STEAMER DUCK': 204,\n",
              " 'STORK BILLED KINGFISHER': 205,\n",
              " 'STRAWBERRY FINCH': 206,\n",
              " 'STRIPPED SWALLOW': 207,\n",
              " 'SUPERB STARLING': 208,\n",
              " 'TAIWAN MAGPIE': 209,\n",
              " 'TAKAHE': 210,\n",
              " 'TASMANIAN HEN': 211,\n",
              " 'TEAL DUCK': 212,\n",
              " 'TIT MOUSE': 213,\n",
              " 'TOUCHAN': 214,\n",
              " 'TOWNSENDS WARBLER': 215,\n",
              " 'TREE SWALLOW': 216,\n",
              " 'TRUMPTER SWAN': 217,\n",
              " 'TURKEY VULTURE': 218,\n",
              " 'TURQUOISE MOTMOT': 219,\n",
              " 'VARIED THRUSH': 220,\n",
              " 'VENEZUELIAN TROUPIAL': 221,\n",
              " 'VERMILION FLYCATHER': 222,\n",
              " 'VIOLET GREEN SWALLOW': 223,\n",
              " 'WATTLED CURASSOW': 224,\n",
              " 'WHIMBREL': 225,\n",
              " 'WHITE CHEEKED TURACO': 226,\n",
              " 'WHITE NECKED RAVEN': 227,\n",
              " 'WHITE TAILED TROPIC': 228,\n",
              " 'WILD TURKEY': 229,\n",
              " 'WILSONS BIRD OF PARADISE': 230,\n",
              " 'WOOD DUCK': 231,\n",
              " 'YELLOW BELLIED FLOWERPECKER': 232,\n",
              " 'YELLOW CACIQUE': 233,\n",
              " 'YELLOW HEADED BLACKBIRD': 234}"
            ]
          },
          "metadata": {
            "tags": []
          },
          "execution_count": 38
        }
      ]
    },
    {
      "cell_type": "code",
      "metadata": {
        "id": "cjQI45SkW53w",
        "colab": {
          "base_uri": "https://localhost:8080/"
        },
        "outputId": "2f9dcc12-04c2-48e6-9b33-65fae35a8fec"
      },
      "source": [
        "n_classes = len(train_data.class_indices)\r\n",
        "print(f'Found {n_classes} classes of birds')"
      ],
      "execution_count": null,
      "outputs": [
        {
          "output_type": "stream",
          "text": [
            "Found 235 classes of birds\n"
          ],
          "name": "stdout"
        }
      ]
    },
    {
      "cell_type": "markdown",
      "metadata": {
        "id": "9-WsUN2ORo6c"
      },
      "source": [
        "# Build a model\r\n",
        "## Transfer learning form ResNet101V2"
      ]
    },
    {
      "cell_type": "code",
      "metadata": {
        "id": "ufdTSjnsXKtN"
      },
      "source": [
        "baseline = ResNet101V2(input_shape=(224,224,3),\r\n",
        "                       include_top=False)\r\n",
        "for layer in baseline.layers:\r\n",
        "    layer.trainable=False"
      ],
      "execution_count": null,
      "outputs": []
    },
    {
      "cell_type": "markdown",
      "metadata": {
        "id": "DS0bbp1CXa2P"
      },
      "source": [
        "## Model build and compile"
      ]
    },
    {
      "cell_type": "code",
      "metadata": {
        "id": "enwospQTRr4L"
      },
      "source": [
        "# model is taken from https://www.kaggle.com/anuragmishra2311/birds-classification-using-resnet-101\r\n",
        "model = Sequential()\r\n",
        "model.add(Input(shape=(224,224,3)))\r\n",
        "model.add(baseline)\r\n",
        "model.add(Dropout(0.5))\r\n",
        "model.add(Flatten())\r\n",
        "model.add(BatchNormalization())\r\n",
        "model.add(Dense(2048,kernel_initializer='he_uniform'))\r\n",
        "model.add(BatchNormalization())\r\n",
        "model.add(Activation('relu'))\r\n",
        "model.add(Dropout(0.5)),\r\n",
        "model.add(Dense(1024,kernel_initializer='he_uniform'))\r\n",
        "model.add(BatchNormalization())\r\n",
        "model.add(Activation('relu'))\r\n",
        "model.add(Dropout(0.5))\r\n",
        "model.add(Dense(n_classes, activation='softmax'))\r\n",
        "model.layers[0].trainable = False"
      ],
      "execution_count": null,
      "outputs": []
    },
    {
      "cell_type": "code",
      "metadata": {
        "id": "0vL1zs7yXr9W",
        "colab": {
          "base_uri": "https://localhost:8080/"
        },
        "outputId": "f1a4fbe8-e7ce-4f39-dce3-fbd554e4a162"
      },
      "source": [
        "model.compile(loss=SparseCategoricalCrossentropy(),\r\n",
        "              metrics=[SparseCategoricalAccuracy()],\r\n",
        "              optimizer=Adam(lr=0.001))\r\n",
        "print(model.summary())"
      ],
      "execution_count": null,
      "outputs": [
        {
          "output_type": "stream",
          "text": [
            "Model: \"sequential_4\"\n",
            "_________________________________________________________________\n",
            "Layer (type)                 Output Shape              Param #   \n",
            "=================================================================\n",
            "resnet101v2 (Functional)     (None, 7, 7, 2048)        42626560  \n",
            "_________________________________________________________________\n",
            "dropout_3 (Dropout)          (None, 7, 7, 2048)        0         \n",
            "_________________________________________________________________\n",
            "flatten_1 (Flatten)          (None, 100352)            0         \n",
            "_________________________________________________________________\n",
            "batch_normalization_3 (Batch (None, 100352)            401408    \n",
            "_________________________________________________________________\n",
            "dense_3 (Dense)              (None, 2048)              205522944 \n",
            "_________________________________________________________________\n",
            "batch_normalization_4 (Batch (None, 2048)              8192      \n",
            "_________________________________________________________________\n",
            "activation_2 (Activation)    (None, 2048)              0         \n",
            "_________________________________________________________________\n",
            "dropout_4 (Dropout)          (None, 2048)              0         \n",
            "_________________________________________________________________\n",
            "dense_4 (Dense)              (None, 1024)              2098176   \n",
            "_________________________________________________________________\n",
            "batch_normalization_5 (Batch (None, 1024)              4096      \n",
            "_________________________________________________________________\n",
            "activation_3 (Activation)    (None, 1024)              0         \n",
            "_________________________________________________________________\n",
            "dropout_5 (Dropout)          (None, 1024)              0         \n",
            "_________________________________________________________________\n",
            "dense_5 (Dense)              (None, 235)               240875    \n",
            "=================================================================\n",
            "Total params: 250,902,251\n",
            "Trainable params: 208,068,843\n",
            "Non-trainable params: 42,833,408\n",
            "_________________________________________________________________\n",
            "None\n"
          ],
          "name": "stdout"
        }
      ]
    },
    {
      "cell_type": "markdown",
      "metadata": {
        "id": "zCbEhXA0YxpH"
      },
      "source": [
        "## Model fitting - step 1\r\n",
        "\r\n",
        "The suggested number of epochs is 5, and each of them runs about 3 hours on GPU. Therefore, the expected running time exceeds 12 hours. I split on 2 + 3 epochs."
      ]
    },
    {
      "cell_type": "code",
      "metadata": {
        "id": "ngqz4v3pXSc3"
      },
      "source": [
        "folder = '/content/drive/My Drive/Bird_classification'"
      ],
      "execution_count": null,
      "outputs": []
    },
    {
      "cell_type": "code",
      "metadata": {
        "id": "0jSfwPxCUKdU"
      },
      "source": [
        "weight_path = folder + '/' + 'initial_model_weights.hdf5'\r\n",
        "\r\n",
        "earlystopping = EarlyStopping(monitor = 'val_sparse_categorical_accuracy', \r\n",
        "                              mode = 'max' , \r\n",
        "                              patience = 10,\r\n",
        "                              verbose = 1,\r\n",
        "                              restore_best_weights=True)\r\n",
        "\r\n",
        "checkpoint = ModelCheckpoint(weight_path, \r\n",
        "                                monitor = 'val_sparse_categorical_accuracy', \r\n",
        "                                mode='max', \r\n",
        "                                save_best_only=True, \r\n",
        "                                verbose = 1)\r\n",
        "\r\n",
        "callback_list = [earlystopping, checkpoint]"
      ],
      "execution_count": null,
      "outputs": []
    },
    {
      "cell_type": "code",
      "metadata": {
        "id": "EDeIWOFiYbi6",
        "colab": {
          "base_uri": "https://localhost:8080/"
        },
        "outputId": "a6dd76f0-64d6-4a92-da12-fa4c4a684f48"
      },
      "source": [
        "history = model.fit(train_data,\r\n",
        "                    validation_data=valid_data,\r\n",
        "                    epochs=500,\r\n",
        "                    callbacks=callback_list)"
      ],
      "execution_count": null,
      "outputs": [
        {
          "output_type": "stream",
          "text": [
            "Epoch 1/500\n",
            "128/128 [==============================] - 438s 3s/step - loss: 0.5208 - sparse_categorical_accuracy: 0.8522 - val_loss: 0.2142 - val_sparse_categorical_accuracy: 0.9345\n",
            "\n",
            "Epoch 00001: val_sparse_categorical_accuracy improved from -inf to 0.93447, saving model to /content/drive/My Drive/Bird_classificationinitial_model_weights.hdf5\n",
            "Epoch 2/500\n",
            "128/128 [==============================] - 509s 4s/step - loss: 0.4743 - sparse_categorical_accuracy: 0.8627 - val_loss: 0.2017 - val_sparse_categorical_accuracy: 0.9353\n",
            "\n",
            "Epoch 00002: val_sparse_categorical_accuracy improved from 0.93447 to 0.93532, saving model to /content/drive/My Drive/Bird_classificationinitial_model_weights.hdf5\n",
            "Epoch 3/500\n",
            "128/128 [==============================] - 520s 4s/step - loss: 0.4332 - sparse_categorical_accuracy: 0.8726 - val_loss: 0.1775 - val_sparse_categorical_accuracy: 0.9464\n",
            "\n",
            "Epoch 00003: val_sparse_categorical_accuracy improved from 0.93532 to 0.94638, saving model to /content/drive/My Drive/Bird_classificationinitial_model_weights.hdf5\n",
            "Epoch 4/500\n",
            "128/128 [==============================] - 510s 4s/step - loss: 0.4040 - sparse_categorical_accuracy: 0.8814 - val_loss: 0.1875 - val_sparse_categorical_accuracy: 0.9455\n",
            "\n",
            "Epoch 00004: val_sparse_categorical_accuracy did not improve from 0.94638\n",
            "Epoch 5/500\n",
            "128/128 [==============================] - 446s 3s/step - loss: 0.3775 - sparse_categorical_accuracy: 0.8872 - val_loss: 0.1668 - val_sparse_categorical_accuracy: 0.9472\n",
            "\n",
            "Epoch 00005: val_sparse_categorical_accuracy improved from 0.94638 to 0.94723, saving model to /content/drive/My Drive/Bird_classificationinitial_model_weights.hdf5\n",
            "Epoch 6/500\n",
            "128/128 [==============================] - 537s 4s/step - loss: 0.3552 - sparse_categorical_accuracy: 0.8923 - val_loss: 0.1482 - val_sparse_categorical_accuracy: 0.9532\n",
            "\n",
            "Epoch 00006: val_sparse_categorical_accuracy improved from 0.94723 to 0.95319, saving model to /content/drive/My Drive/Bird_classificationinitial_model_weights.hdf5\n",
            "Epoch 7/500\n",
            "128/128 [==============================] - 537s 4s/step - loss: 0.3294 - sparse_categorical_accuracy: 0.9011 - val_loss: 0.1546 - val_sparse_categorical_accuracy: 0.9566\n",
            "\n",
            "Epoch 00007: val_sparse_categorical_accuracy improved from 0.95319 to 0.95660, saving model to /content/drive/My Drive/Bird_classificationinitial_model_weights.hdf5\n",
            "Epoch 8/500\n",
            "128/128 [==============================] - 532s 4s/step - loss: 0.3211 - sparse_categorical_accuracy: 0.9036 - val_loss: 0.1411 - val_sparse_categorical_accuracy: 0.9609\n",
            "\n",
            "Epoch 00008: val_sparse_categorical_accuracy improved from 0.95660 to 0.96085, saving model to /content/drive/My Drive/Bird_classificationinitial_model_weights.hdf5\n",
            "Epoch 9/500\n",
            "128/128 [==============================] - 531s 4s/step - loss: 0.3022 - sparse_categorical_accuracy: 0.9085 - val_loss: 0.1749 - val_sparse_categorical_accuracy: 0.9540\n",
            "\n",
            "Epoch 00009: val_sparse_categorical_accuracy did not improve from 0.96085\n",
            "Epoch 10/500\n",
            "128/128 [==============================] - 446s 3s/step - loss: 0.2931 - sparse_categorical_accuracy: 0.9102 - val_loss: 0.1803 - val_sparse_categorical_accuracy: 0.9404\n",
            "\n",
            "Epoch 00010: val_sparse_categorical_accuracy did not improve from 0.96085\n",
            "Epoch 11/500\n",
            "128/128 [==============================] - 443s 3s/step - loss: 0.2822 - sparse_categorical_accuracy: 0.9136 - val_loss: 0.1559 - val_sparse_categorical_accuracy: 0.9540\n",
            "\n",
            "Epoch 00011: val_sparse_categorical_accuracy did not improve from 0.96085\n",
            "Epoch 12/500\n",
            "128/128 [==============================] - 441s 3s/step - loss: 0.2571 - sparse_categorical_accuracy: 0.9208 - val_loss: 0.1601 - val_sparse_categorical_accuracy: 0.9540\n",
            "\n",
            "Epoch 00012: val_sparse_categorical_accuracy did not improve from 0.96085\n",
            "Epoch 13/500\n",
            "128/128 [==============================] - 441s 3s/step - loss: 0.2628 - sparse_categorical_accuracy: 0.9204 - val_loss: 0.1517 - val_sparse_categorical_accuracy: 0.9600\n",
            "\n",
            "Epoch 00013: val_sparse_categorical_accuracy did not improve from 0.96085\n",
            "Epoch 14/500\n",
            "128/128 [==============================] - 437s 3s/step - loss: 0.2606 - sparse_categorical_accuracy: 0.9184 - val_loss: 0.1594 - val_sparse_categorical_accuracy: 0.9515\n",
            "\n",
            "Epoch 00014: val_sparse_categorical_accuracy did not improve from 0.96085\n",
            "Epoch 15/500\n",
            "128/128 [==============================] - 436s 3s/step - loss: 0.2458 - sparse_categorical_accuracy: 0.9231 - val_loss: 0.1616 - val_sparse_categorical_accuracy: 0.9515\n",
            "\n",
            "Epoch 00015: val_sparse_categorical_accuracy did not improve from 0.96085\n",
            "Epoch 16/500\n",
            "128/128 [==============================] - 438s 3s/step - loss: 0.2402 - sparse_categorical_accuracy: 0.9261 - val_loss: 0.1441 - val_sparse_categorical_accuracy: 0.9549\n",
            "\n",
            "Epoch 00016: val_sparse_categorical_accuracy did not improve from 0.96085\n",
            "Epoch 17/500\n",
            "128/128 [==============================] - 436s 3s/step - loss: 0.2261 - sparse_categorical_accuracy: 0.9289 - val_loss: 0.1777 - val_sparse_categorical_accuracy: 0.9506\n",
            "\n",
            "Epoch 00017: val_sparse_categorical_accuracy did not improve from 0.96085\n",
            "Epoch 18/500\n",
            "128/128 [==============================] - 434s 3s/step - loss: 0.2272 - sparse_categorical_accuracy: 0.9303 - val_loss: 0.1560 - val_sparse_categorical_accuracy: 0.9591\n",
            "Restoring model weights from the end of the best epoch.\n",
            "\n",
            "Epoch 00018: val_sparse_categorical_accuracy did not improve from 0.96085\n",
            "Epoch 00018: early stopping\n"
          ],
          "name": "stdout"
        }
      ]
    },
    {
      "cell_type": "code",
      "metadata": {
        "id": "se4fUW1qYv9W"
      },
      "source": [
        ""
      ],
      "execution_count": null,
      "outputs": []
    },
    {
      "cell_type": "markdown",
      "metadata": {
        "id": "er0RUnRoZO_L"
      },
      "source": [
        "# Model analysis"
      ]
    },
    {
      "cell_type": "code",
      "metadata": {
        "colab": {
          "base_uri": "https://localhost:8080/"
        },
        "id": "5wLQUroIA1u6",
        "outputId": "b1599598-2e00-405e-969f-e9fe851bbe33"
      },
      "source": [
        "history.history.keys()"
      ],
      "execution_count": null,
      "outputs": [
        {
          "output_type": "execute_result",
          "data": {
            "text/plain": [
              "dict_keys(['loss', 'sparse_categorical_accuracy', 'val_loss', 'val_sparse_categorical_accuracy'])"
            ]
          },
          "metadata": {
            "tags": []
          },
          "execution_count": 51
        }
      ]
    },
    {
      "cell_type": "code",
      "metadata": {
        "id": "uREtjCB3ZN6c",
        "colab": {
          "base_uri": "https://localhost:8080/",
          "height": 313
        },
        "outputId": "ca765c9a-e2f8-4b47-aa82-35dd4c98f1ef"
      },
      "source": [
        "plt.plot(history.history['sparse_categorical_accuracy'], c='red', marker='+')\r\n",
        "plt.plot(history.history['val_sparse_categorical_accuracy'], c='green', marker='*')\r\n",
        "plt.title('Accuracy')\r\n",
        "plt.ylabel('Accuracy')\r\n",
        "plt.xlabel('Epoch')\r\n",
        "plt.legend(['train','validation'], loc='lower right')\r\n",
        "plt.show()"
      ],
      "execution_count": null,
      "outputs": [
        {
          "output_type": "execute_result",
          "data": {
            "text/plain": [
              "<matplotlib.legend.Legend at 0x7fe26ce6bda0>"
            ]
          },
          "metadata": {
            "tags": []
          },
          "execution_count": 52
        },
        {
          "output_type": "display_data",
          "data": {
            "image/png": "[encoded data removed]",
            "text/plain": [
              "<Figure size 432x288 with 1 Axes>"
            ]
          },
          "metadata": {
            "tags": [],
            "needs_background": "light"
          }
        }
      ]
    },
    {
      "cell_type": "code",
      "metadata": {
        "id": "1jtXkjlnZV-x",
        "colab": {
          "base_uri": "https://localhost:8080/",
          "height": 313
        },
        "outputId": "3cb71993-e68a-4428-b3b0-ba8b972e21d2"
      },
      "source": [
        "plt.plot(history.history['loss'], c='red', marker='+')\r\n",
        "plt.plot(history.history['val_loss'],c='green', marker='*')\r\n",
        "plt.title('Loss')\r\n",
        "plt.ylabel('Loss')\r\n",
        "plt.xlabel('Epoch')\r\n",
        "plt.legend(['train','validation'],loc='upper right')\r\n",
        "plt.show()"
      ],
      "execution_count": null,
      "outputs": [
        {
          "output_type": "execute_result",
          "data": {
            "text/plain": [
              "<matplotlib.legend.Legend at 0x7fe2d4c3e518>"
            ]
          },
          "metadata": {
            "tags": []
          },
          "execution_count": 53
        },
        {
          "output_type": "display_data",
          "data": {
            "image/png": "[encoded data removed]",
            "text/plain": [
              "<Figure size 432x288 with 1 Axes>"
            ]
          },
          "metadata": {
            "tags": [],
            "needs_background": "light"
          }
        }
      ]
    },
    {
      "cell_type": "code",
      "metadata": {
        "id": "IhBi54MgZqbG",
        "colab": {
          "base_uri": "https://localhost:8080/"
        },
        "outputId": "31975d08-aa60-43ab-8aad-6ac53eb61560"
      },
      "source": [
        "model.evaluate(test_data)"
      ],
      "execution_count": null,
      "outputs": [
        {
          "output_type": "stream",
          "text": [
            "5/5 [==============================] - 379s 94s/step - loss: 0.0633 - sparse_categorical_accuracy: 0.9787\n"
          ],
          "name": "stdout"
        },
        {
          "output_type": "execute_result",
          "data": {
            "text/plain": [
              "[0.06326599419116974, 0.978723406791687]"
            ]
          },
          "metadata": {
            "tags": []
          },
          "execution_count": 54
        }
      ]
    },
    {
      "cell_type": "code",
      "metadata": {
        "id": "1OzQlZCpcw-e",
        "colab": {
          "base_uri": "https://localhost:8080/"
        },
        "outputId": "b785c520-a6e4-4ff4-b8bf-079a0308256e"
      },
      "source": [
        "model.save('/content/drive/My Drive/Bird_classification/initial_resnet101v2_model')"
      ],
      "execution_count": null,
      "outputs": [
        {
          "output_type": "stream",
          "text": [
            "INFO:tensorflow:Assets written to: /content/drive/My Drive/Bird_classification/initial_resnet101v2_model/assets\n"
          ],
          "name": "stdout"
        }
      ]
    },
    {
      "cell_type": "code",
      "metadata": {
        "id": "-GblEsgECpp3"
      },
      "source": [
        "dic = train_data.class_indices\r\n",
        "label_converter = pd.DataFrame(dic.items())\r\n",
        "label_converter.head()\r\n",
        "label_converter.to_csv('/content/drive/My Drive/Bird_classification/label_converter_initial_model.csv')"
      ],
      "execution_count": null,
      "outputs": []
    },
    {
      "cell_type": "markdown",
      "metadata": {
        "id": "WmZ0ZNyRZsEC"
      },
      "source": [
        "# Prediction"
      ]
    },
    {
      "cell_type": "code",
      "metadata": {
        "id": "URaF6kRjZ923"
      },
      "source": [
        "import random\r\n",
        "\r\n",
        "from tensorflow.keras.preprocessing.image import load_img"
      ],
      "execution_count": null,
      "outputs": []
    },
    {
      "cell_type": "code",
      "metadata": {
        "id": "em_fwJojaEg3"
      },
      "source": [
        "# Way 1: load from the test folder\r\n",
        "all_test_labels = list()\r\n",
        "for o in os.listdir(test_dir):\r\n",
        "    new_path = os.path.join(test_dir, o)\r\n",
        "    if os.path.isdir(new_path):\r\n",
        "        all_test_labels.append(new_path)\r\n",
        "\r\n",
        "folder_id = all_test_labels[random.randint(0, len(all_test_labels) - 1)]\r\n",
        "n_images = len(os.listdir(folder_id))\r\n",
        "image_id = os.path.join(folder_id, list(os.listdir(image_id))[random.randint(0, n_images-1)])\r\n",
        "img = load_img(image_id)\r\n",
        "print(f'Bird image is {image_id}')"
      ],
      "execution_count": null,
      "outputs": []
    },
    {
      "cell_type": "code",
      "metadata": {
        "id": "lEpozVwNb40n"
      },
      "source": [
        "# Way 2: Load external image"
      ],
      "execution_count": null,
      "outputs": []
    },
    {
      "cell_type": "code",
      "metadata": {
        "id": "HoKxvTrHZteC"
      },
      "source": [
        "dic = train_data.class_indices\r\n",
        "recover_labels = {k:v for v,k in dic.items()}\r\n",
        "def output():\r\n",
        "    img = load_img(location,target_size=(224,224,3))\r\n",
        "    img = img_to_array(img)\r\n",
        "    img=img/255\r\n",
        "    img=np.expand_dims(img,[0])\r\n",
        "    answer=model.predict_classes(img)\r\n",
        "    confident = 0\r\n",
        "    for prob, answer in zip(model.predict_proba(img), answer):\r\n",
        "        if prob > 0.8:\r\n",
        "            print(f'{prob * 100} % chances are there that the bird is {recover_labels[answer[0]]}')\r\n",
        "            confident += 1\r\n",
        "    if not confident:\r\n",
        "        print(f'No match found')"
      ],
      "execution_count": null,
      "outputs": []
    }
  ]
}